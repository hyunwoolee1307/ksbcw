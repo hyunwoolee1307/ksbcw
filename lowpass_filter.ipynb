{
 "cells": [
  {
   "cell_type": "code",
   "execution_count": 1,
   "id": "ea50aded-2fd7-4206-8464-da48fd80a69a",
   "metadata": {},
   "outputs": [],
   "source": [
    "import numpy as np\n",
    "import xarray as xr\n",
    "from scipy.signal import butter, filtfilt"
   ]
  },
  {
   "cell_type": "code",
   "execution_count": 2,
   "id": "d21db486-ec60-47d5-860b-2cb6a367c3b2",
   "metadata": {},
   "outputs": [],
   "source": [
    "def butter_lowpass_filter_1d(y, cutoff, fs=1.0, order=4):\n",
    "    nyq = 0.5 * fs\n",
    "    normal_cutoff = cutoff / nyq\n",
    "    b, a = butter(order, normal_cutoff, btype='low', analog=False)\n",
    "    return filtfilt(b, a, y, axis=0)"
   ]
  },
  {
   "cell_type": "code",
   "execution_count": 3,
   "id": "ed1ba29c-e159-4d00-b1bd-73af33bee8ed",
   "metadata": {},
   "outputs": [],
   "source": [
    "da = xr.open_dataarray('data/line_208_interp.nc')"
   ]
  },
  {
   "cell_type": "code",
   "execution_count": 4,
   "id": "c6a7fc24-ad97-45df-bba4-b1724d1193cc",
   "metadata": {},
   "outputs": [],
   "source": [
    "# convert to monthly mean (assumes time is datetime-like)\n",
    "da_monthly = da.resample(date='1MS').mean(dim='date')  # '1MS' = start of month\n",
    "# interpolate small gaps:\n",
    "da_monthly_interp = da_monthly.interpolate_na(dim='date', method='linear', fill_value=np.nan)"
   ]
  },
  {
   "cell_type": "code",
   "execution_count": 5,
   "id": "273261c9-6c6a-4051-88d3-c3c6652e2c26",
   "metadata": {},
   "outputs": [],
   "source": [
    "# setting\n",
    "cutoff = 1.0 / 12.0\n",
    "fs = 1.0\n",
    "order = 4"
   ]
  },
  {
   "cell_type": "code",
   "execution_count": 6,
   "id": "a4540feb-0f20-4765-8057-356f79a16a88",
   "metadata": {},
   "outputs": [],
   "source": [
    "da_lowpass = xr.apply_ufunc(\n",
    "    butter_lowpass_filter_1d,\n",
    "    da_monthly,\n",
    "    input_core_dims=[['date']],\n",
    "    output_core_dims=[['date']],\n",
    "    vectorize=True,\n",
    "    kwargs={'cutoff': cutoff, 'fs': fs, 'order': order},\n",
    "    dask='parallelized',\n",
    "    output_dtypes=[da_monthly.dtype],\n",
    ")"
   ]
  },
  {
   "cell_type": "code",
   "execution_count": 8,
   "id": "5549317a-2d25-4292-ab38-4910eac958d0",
   "metadata": {},
   "outputs": [],
   "source": [
    "da_lowpass.to_netcdf('data/line_208_interp_lf.nc')"
   ]
  }
 ],
 "metadata": {
  "kernelspec": {
   "display_name": "Python 3 (ipykernel)",
   "language": "python",
   "name": "python3"
  },
  "language_info": {
   "codemirror_mode": {
    "name": "ipython",
    "version": 3
   },
   "file_extension": ".py",
   "mimetype": "text/x-python",
   "name": "python",
   "nbconvert_exporter": "python",
   "pygments_lexer": "ipython3",
   "version": "3.12.11"
  }
 },
 "nbformat": 4,
 "nbformat_minor": 5
}
