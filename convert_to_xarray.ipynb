{
 "cells": [
  {
   "cell_type": "code",
   "execution_count": 22,
   "id": "81dcff03-d776-4bea-b647-e89557e965ef",
   "metadata": {},
   "outputs": [],
   "source": [
    "import pandas as pd\n",
    "import xarray as xr"
   ]
  },
  {
   "cell_type": "code",
   "execution_count": 27,
   "id": "d86668a1-c665-49c0-9003-dd9def1044a5",
   "metadata": {},
   "outputs": [],
   "source": [
    "df = pd.read_csv('data/line_208_interp.csv')\n",
    "meta = pd.read_csv('data/meta.txt', delimiter='\\t')"
   ]
  },
  {
   "cell_type": "code",
   "execution_count": 28,
   "id": "e8130d5a-c645-4dc7-a281-9f4198e01d8e",
   "metadata": {},
   "outputs": [
    {
     "data": {
      "text/html": [
       "<div>\n",
       "<style scoped>\n",
       "    .dataframe tbody tr th:only-of-type {\n",
       "        vertical-align: middle;\n",
       "    }\n",
       "\n",
       "    .dataframe tbody tr th {\n",
       "        vertical-align: top;\n",
       "    }\n",
       "\n",
       "    .dataframe thead th {\n",
       "        text-align: right;\n",
       "    }\n",
       "</style>\n",
       "<table border=\"1\" class=\"dataframe\">\n",
       "  <thead>\n",
       "    <tr style=\"text-align: right;\">\n",
       "      <th></th>\n",
       "      <th>Area</th>\n",
       "      <th>Line-Station</th>\n",
       "      <th>Begin date(YYYY-MM-DD)</th>\n",
       "      <th>End date(YYYY-MM-DD)</th>\n",
       "      <th>Latitude(˚N)</th>\n",
       "      <th>Longitude(˚E)</th>\n",
       "      <th>Zooplankton sampling depth(m)</th>\n",
       "      <th>Bottom depth(m)</th>\n",
       "    </tr>\n",
       "  </thead>\n",
       "  <tbody>\n",
       "    <tr>\n",
       "      <th>0</th>\n",
       "      <td>East Sea</td>\n",
       "      <td>102-00</td>\n",
       "      <td>1997-02-05</td>\n",
       "      <td>NaN</td>\n",
       "      <td>36.0767</td>\n",
       "      <td>129.5883</td>\n",
       "      <td>NaN</td>\n",
       "      <td>52</td>\n",
       "    </tr>\n",
       "    <tr>\n",
       "      <th>1</th>\n",
       "      <td>East Sea</td>\n",
       "      <td>102-04</td>\n",
       "      <td>1962-06-23</td>\n",
       "      <td>NaN</td>\n",
       "      <td>36.0767</td>\n",
       "      <td>129.6150</td>\n",
       "      <td>NaN</td>\n",
       "      <td>52</td>\n",
       "    </tr>\n",
       "    <tr>\n",
       "      <th>2</th>\n",
       "      <td>East Sea</td>\n",
       "      <td>102-05</td>\n",
       "      <td>1961-06-19</td>\n",
       "      <td>NaN</td>\n",
       "      <td>36.0767</td>\n",
       "      <td>129.6883</td>\n",
       "      <td>100.0</td>\n",
       "      <td>210</td>\n",
       "    </tr>\n",
       "    <tr>\n",
       "      <th>3</th>\n",
       "      <td>East Sea</td>\n",
       "      <td>102-06</td>\n",
       "      <td>1961-06-19</td>\n",
       "      <td>NaN</td>\n",
       "      <td>36.0767</td>\n",
       "      <td>129.7967</td>\n",
       "      <td>NaN</td>\n",
       "      <td>700</td>\n",
       "    </tr>\n",
       "    <tr>\n",
       "      <th>4</th>\n",
       "      <td>East Sea</td>\n",
       "      <td>102-07</td>\n",
       "      <td>1961-06-19</td>\n",
       "      <td>NaN</td>\n",
       "      <td>36.0767</td>\n",
       "      <td>130.0000</td>\n",
       "      <td>100.0</td>\n",
       "      <td>1,390</td>\n",
       "    </tr>\n",
       "  </tbody>\n",
       "</table>\n",
       "</div>"
      ],
      "text/plain": [
       "       Area Line-Station Begin date(YYYY-MM-DD) End date(YYYY-MM-DD)  \\\n",
       "0  East Sea       102-00             1997-02-05                  NaN   \n",
       "1  East Sea       102-04             1962-06-23                  NaN   \n",
       "2  East Sea       102-05             1961-06-19                  NaN   \n",
       "3  East Sea       102-06             1961-06-19                  NaN   \n",
       "4  East Sea       102-07             1961-06-19                  NaN   \n",
       "\n",
       "   Latitude(˚N)  Longitude(˚E)  Zooplankton sampling depth(m) Bottom depth(m)  \n",
       "0       36.0767       129.5883                            NaN              52  \n",
       "1       36.0767       129.6150                            NaN              52  \n",
       "2       36.0767       129.6883                          100.0             210  \n",
       "3       36.0767       129.7967                            NaN             700  \n",
       "4       36.0767       130.0000                          100.0           1,390  "
      ]
     },
     "execution_count": 28,
     "metadata": {},
     "output_type": "execute_result"
    }
   ],
   "source": [
    "meta.head()"
   ]
  },
  {
   "cell_type": "code",
   "execution_count": 24,
   "id": "28c19c89-4e18-40f9-bedc-ea5906bab904",
   "metadata": {},
   "outputs": [],
   "source": [
    "df['date'] = pd.to_datetime(df['julian'], origin='julian', unit='D')"
   ]
  },
  {
   "cell_type": "code",
   "execution_count": 25,
   "id": "a5702b7e-c665-477a-b127-d37ebdde5db4",
   "metadata": {},
   "outputs": [],
   "source": [
    "df = df.drop(columns=['station', 'julian'])"
   ]
  },
  {
   "cell_type": "code",
   "execution_count": 26,
   "id": "958660c3-da21-4eaf-a9a5-5b56a00398cd",
   "metadata": {},
   "outputs": [
    {
     "name": "stdout",
     "output_type": "stream",
     "text": [
      "<class 'pandas.core.frame.DataFrame'>\n",
      "RangeIndex: 14471 entries, 0 to 14470\n",
      "Data columns (total 3 columns):\n",
      " #   Column       Non-Null Count  Dtype         \n",
      "---  ------       --------------  -----         \n",
      " 0   depth        14471 non-null  int64         \n",
      " 1   temperature  14471 non-null  float64       \n",
      " 2   date         14471 non-null  datetime64[ns]\n",
      "dtypes: datetime64[ns](1), float64(1), int64(1)\n",
      "memory usage: 339.3 KB\n"
     ]
    }
   ],
   "source": [
    "df.info()"
   ]
  },
  {
   "cell_type": "code",
   "execution_count": null,
   "id": "1c0c042d-779b-48ef-81b0-23402b05b78e",
   "metadata": {},
   "outputs": [],
   "source": [
    "df.to_xarray(\n",
    "    df['temperature'],\n",
    "    dims=('time', 'depth', 'location'),\n",
    "    coords={\n",
    "        'time': df['date'],\n",
    "        'depth': df['depth'],\n",
    "        'location': df['\n",
    "    },\n",
    ")"
   ]
  }
 ],
 "metadata": {
  "kernelspec": {
   "display_name": "Python 3 (ipykernel)",
   "language": "python",
   "name": "python3"
  },
  "language_info": {
   "codemirror_mode": {
    "name": "ipython",
    "version": 3
   },
   "file_extension": ".py",
   "mimetype": "text/x-python",
   "name": "python",
   "nbconvert_exporter": "python",
   "pygments_lexer": "ipython3",
   "version": "3.12.11"
  }
 },
 "nbformat": 4,
 "nbformat_minor": 5
}
