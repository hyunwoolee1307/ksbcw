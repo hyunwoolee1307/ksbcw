{
 "cells": [
  {
   "cell_type": "code",
   "execution_count": 11,
   "id": "8a06e6cc-9875-42d7-a33a-ddea3512fb57",
   "metadata": {},
   "outputs": [],
   "source": [
    "import numpy as np\n",
    "import pandas as pd\n",
    "import xarray as xr\n",
    "\n",
    "from interpolation import depth_interp_spline"
   ]
  },
  {
   "cell_type": "code",
   "execution_count": 12,
   "id": "eb160d13-1185-4a93-bada-b318bdf5252a",
   "metadata": {
    "scrolled": true
   },
   "outputs": [
    {
     "data": {
      "text/plain": [
       "['data/soo_list_1969.txt',\n",
       " 'data/soo_list_1970.txt',\n",
       " 'data/soo_list_1971.txt',\n",
       " 'data/soo_list_1972.txt',\n",
       " 'data/soo_list_1973.txt',\n",
       " 'data/soo_list_1974.txt',\n",
       " 'data/soo_list_1975.txt',\n",
       " 'data/soo_list_1976.txt',\n",
       " 'data/soo_list_1977.txt',\n",
       " 'data/soo_list_1978.txt',\n",
       " 'data/soo_list_1979.txt',\n",
       " 'data/soo_list_1980.txt',\n",
       " 'data/soo_list_1981.txt',\n",
       " 'data/soo_list_1982.txt',\n",
       " 'data/soo_list_1983.txt',\n",
       " 'data/soo_list_1984.txt',\n",
       " 'data/soo_list_1985.txt',\n",
       " 'data/soo_list_1986.txt',\n",
       " 'data/soo_list_1987.txt',\n",
       " 'data/soo_list_1988.txt',\n",
       " 'data/soo_list_1989.txt',\n",
       " 'data/soo_list_1990.txt',\n",
       " 'data/soo_list_1991.txt',\n",
       " 'data/soo_list_1992.txt',\n",
       " 'data/soo_list_1993.txt',\n",
       " 'data/soo_list_1994.txt',\n",
       " 'data/soo_list_1995.txt',\n",
       " 'data/soo_list_1996.txt',\n",
       " 'data/soo_list_1997.txt',\n",
       " 'data/soo_list_1998.txt',\n",
       " 'data/soo_list_1999.txt',\n",
       " 'data/soo_list_2000.txt',\n",
       " 'data/soo_list_2001.txt',\n",
       " 'data/soo_list_2002.txt',\n",
       " 'data/soo_list_2003.txt',\n",
       " 'data/soo_list_2004.txt',\n",
       " 'data/soo_list_2005.txt',\n",
       " 'data/soo_list_2006.txt',\n",
       " 'data/soo_list_2007.txt',\n",
       " 'data/soo_list_2008.txt',\n",
       " 'data/soo_list_2009.txt',\n",
       " 'data/soo_list_2010.txt',\n",
       " 'data/soo_list_2011.txt',\n",
       " 'data/soo_list_2012.txt',\n",
       " 'data/soo_list_2013.txt',\n",
       " 'data/soo_list_2014.txt',\n",
       " 'data/soo_list_2015.txt',\n",
       " 'data/soo_list_2016.txt',\n",
       " 'data/soo_list_2017.txt',\n",
       " 'data/soo_list_2018.txt',\n",
       " 'data/soo_list_2019.txt',\n",
       " 'data/soo_list_2020.txt',\n",
       " 'data/soo_list_2021.txt',\n",
       " 'data/soo_list_2022.txt',\n",
       " 'data/soo_list_2023.txt',\n",
       " 'data/soo_list_2024.txt']"
      ]
     },
     "execution_count": 12,
     "metadata": {},
     "output_type": "execute_result"
    }
   ],
   "source": [
    "file_list = ['data/soo_list_%d.txt' % d for d in np.arange(1969, 2025)] \n",
    "file_list"
   ]
  },
  {
   "cell_type": "code",
   "execution_count": 13,
   "id": "ed287560-6c31-4dc3-acd3-48c10fe3453d",
   "metadata": {},
   "outputs": [],
   "source": [
    "meta = pd.read_csv('data/meta.txt', delimiter='\\t', header=0)"
   ]
  },
  {
   "cell_type": "code",
   "execution_count": 14,
   "id": "56996714",
   "metadata": {},
   "outputs": [],
   "source": [
    "east_sea_meta= meta[(meta['Area'] == 'East Sea') & (meta['End date(YYYY-MM-DD)'].isna())].drop(columns=['Zooplankton sampling depth(m)'])"
   ]
  },
  {
   "cell_type": "code",
   "execution_count": 15,
   "id": "93d755ef",
   "metadata": {},
   "outputs": [
    {
     "name": "stdout",
     "output_type": "stream",
     "text": [
      "<class 'pandas.core.frame.DataFrame'>\n",
      "Index: 74 entries, 0 to 148\n",
      "Data columns (total 7 columns):\n",
      " #   Column                  Non-Null Count  Dtype  \n",
      "---  ------                  --------------  -----  \n",
      " 0   Area                    74 non-null     object \n",
      " 1   Line-Station            74 non-null     object \n",
      " 2   Begin date(YYYY-MM-DD)  70 non-null     object \n",
      " 3   End date(YYYY-MM-DD)    0 non-null      object \n",
      " 4   Latitude(˚N)            74 non-null     float64\n",
      " 5   Longitude(˚E)           74 non-null     float64\n",
      " 6   Bottom depth(m)         70 non-null     object \n",
      "dtypes: float64(2), object(5)\n",
      "memory usage: 4.6+ KB\n"
     ]
    }
   ],
   "source": [
    "east_sea_meta.info()"
   ]
  },
  {
   "cell_type": "code",
   "execution_count": null,
   "id": "c4df042f",
   "metadata": {},
   "outputs": [
    {
     "ename": "KeyError",
     "evalue": "'cruiseline'",
     "output_type": "error",
     "traceback": [
      "\u001b[31m---------------------------------------------------------------------------\u001b[39m",
      "\u001b[31mKeyError\u001b[39m                                  Traceback (most recent call last)",
      "\u001b[36mFile \u001b[39m\u001b[32m~/miniforge3/envs/ocean-research/lib/python3.12/site-packages/pandas/core/indexes/base.py:3812\u001b[39m, in \u001b[36mIndex.get_loc\u001b[39m\u001b[34m(self, key)\u001b[39m\n\u001b[32m   3811\u001b[39m \u001b[38;5;28;01mtry\u001b[39;00m:\n\u001b[32m-> \u001b[39m\u001b[32m3812\u001b[39m     \u001b[38;5;28;01mreturn\u001b[39;00m \u001b[38;5;28;43mself\u001b[39;49m\u001b[43m.\u001b[49m\u001b[43m_engine\u001b[49m\u001b[43m.\u001b[49m\u001b[43mget_loc\u001b[49m\u001b[43m(\u001b[49m\u001b[43mcasted_key\u001b[49m\u001b[43m)\u001b[49m\n\u001b[32m   3813\u001b[39m \u001b[38;5;28;01mexcept\u001b[39;00m \u001b[38;5;167;01mKeyError\u001b[39;00m \u001b[38;5;28;01mas\u001b[39;00m err:\n",
      "\u001b[36mFile \u001b[39m\u001b[32mpandas/_libs/index.pyx:167\u001b[39m, in \u001b[36mpandas._libs.index.IndexEngine.get_loc\u001b[39m\u001b[34m()\u001b[39m\n",
      "\u001b[36mFile \u001b[39m\u001b[32mpandas/_libs/index.pyx:175\u001b[39m, in \u001b[36mpandas._libs.index.IndexEngine.get_loc\u001b[39m\u001b[34m()\u001b[39m\n",
      "\u001b[36mFile \u001b[39m\u001b[32mpandas/_libs/index_class_helper.pxi:70\u001b[39m, in \u001b[36mpandas._libs.index.Int64Engine._check_type\u001b[39m\u001b[34m()\u001b[39m\n",
      "\u001b[31mKeyError\u001b[39m: 'cruiseline'",
      "\nThe above exception was the direct cause of the following exception:\n",
      "\u001b[31mKeyError\u001b[39m                                  Traceback (most recent call last)",
      "\u001b[36mCell\u001b[39m\u001b[36m \u001b[39m\u001b[32mIn[17]\u001b[39m\u001b[32m, line 11\u001b[39m\n\u001b[32m      9\u001b[39m depth_new = np.array([\u001b[32m0\u001b[39m, \u001b[32m10\u001b[39m, \u001b[32m20\u001b[39m, \u001b[32m30\u001b[39m, \u001b[32m50\u001b[39m, \u001b[32m75\u001b[39m, \u001b[32m100\u001b[39m, \u001b[32m125\u001b[39m, \u001b[32m150\u001b[39m, \u001b[32m200\u001b[39m, \u001b[32m250\u001b[39m, \u001b[32m300\u001b[39m, \u001b[32m400\u001b[39m, \u001b[32m500\u001b[39m])\n\u001b[32m     10\u001b[39m df_interp = depth_interp_spline(df, \u001b[33m'\u001b[39m\u001b[33mtemperature\u001b[39m\u001b[33m'\u001b[39m)\n\u001b[32m---> \u001b[39m\u001b[32m11\u001b[39m df_interp[\u001b[33m'\u001b[39m\u001b[33mline_stations\u001b[39m\u001b[33m'\u001b[39m] = \u001b[43mdf_interp\u001b[49m\u001b[43m[\u001b[49m\u001b[33;43m'\u001b[39;49m\u001b[33;43mcruiseline\u001b[39;49m\u001b[33;43m'\u001b[39;49m\u001b[43m]\u001b[49m.astype(\u001b[38;5;28mstr\u001b[39m) + \u001b[33m'\u001b[39m\u001b[33m-\u001b[39m\u001b[33m'\u001b[39m + df_interp[\u001b[33m'\u001b[39m\u001b[33mstation\u001b[39m\u001b[33m'\u001b[39m].astype(\u001b[38;5;28mstr\u001b[39m)\n\u001b[32m     12\u001b[39m df_interp[\u001b[33m'\u001b[39m\u001b[33mlongitude\u001b[39m\u001b[33m'\u001b[39m] = df_interp[\u001b[33m'\u001b[39m\u001b[33mline_stations\u001b[39m\u001b[33m'\u001b[39m].map(east_sea_meta.set_index(\u001b[33m'\u001b[39m\u001b[33mLine-Station\u001b[39m\u001b[33m'\u001b[39m)[\u001b[33m'\u001b[39m\u001b[33mLongitude(˚E)\u001b[39m\u001b[33m'\u001b[39m])\n\u001b[32m     13\u001b[39m df_interp[\u001b[33m'\u001b[39m\u001b[33mlatitude\u001b[39m\u001b[33m'\u001b[39m] = df_interp[\u001b[33m'\u001b[39m\u001b[33mline_stations\u001b[39m\u001b[33m'\u001b[39m].map(east_sea_meta.set_index(\u001b[33m'\u001b[39m\u001b[33mLine-Station\u001b[39m\u001b[33m'\u001b[39m)[\u001b[33m'\u001b[39m\u001b[33mLatitude(˚N)\u001b[39m\u001b[33m'\u001b[39m])\n",
      "\u001b[36mFile \u001b[39m\u001b[32m~/miniforge3/envs/ocean-research/lib/python3.12/site-packages/pandas/core/series.py:1133\u001b[39m, in \u001b[36mSeries.__getitem__\u001b[39m\u001b[34m(self, key)\u001b[39m\n\u001b[32m   1130\u001b[39m     \u001b[38;5;28;01mreturn\u001b[39;00m \u001b[38;5;28mself\u001b[39m._values[key]\n\u001b[32m   1132\u001b[39m \u001b[38;5;28;01melif\u001b[39;00m key_is_scalar:\n\u001b[32m-> \u001b[39m\u001b[32m1133\u001b[39m     \u001b[38;5;28;01mreturn\u001b[39;00m \u001b[38;5;28;43mself\u001b[39;49m\u001b[43m.\u001b[49m\u001b[43m_get_value\u001b[49m\u001b[43m(\u001b[49m\u001b[43mkey\u001b[49m\u001b[43m)\u001b[49m\n\u001b[32m   1135\u001b[39m \u001b[38;5;66;03m# Convert generator to list before going through hashable part\u001b[39;00m\n\u001b[32m   1136\u001b[39m \u001b[38;5;66;03m# (We will iterate through the generator there to check for slices)\u001b[39;00m\n\u001b[32m   1137\u001b[39m \u001b[38;5;28;01mif\u001b[39;00m is_iterator(key):\n",
      "\u001b[36mFile \u001b[39m\u001b[32m~/miniforge3/envs/ocean-research/lib/python3.12/site-packages/pandas/core/series.py:1249\u001b[39m, in \u001b[36mSeries._get_value\u001b[39m\u001b[34m(self, label, takeable)\u001b[39m\n\u001b[32m   1246\u001b[39m     \u001b[38;5;28;01mreturn\u001b[39;00m \u001b[38;5;28mself\u001b[39m._values[label]\n\u001b[32m   1248\u001b[39m \u001b[38;5;66;03m# Similar to Index.get_value, but we do not fall back to positional\u001b[39;00m\n\u001b[32m-> \u001b[39m\u001b[32m1249\u001b[39m loc = \u001b[38;5;28;43mself\u001b[39;49m\u001b[43m.\u001b[49m\u001b[43mindex\u001b[49m\u001b[43m.\u001b[49m\u001b[43mget_loc\u001b[49m\u001b[43m(\u001b[49m\u001b[43mlabel\u001b[49m\u001b[43m)\u001b[49m\n\u001b[32m   1251\u001b[39m \u001b[38;5;28;01mif\u001b[39;00m is_integer(loc):\n\u001b[32m   1252\u001b[39m     \u001b[38;5;28;01mreturn\u001b[39;00m \u001b[38;5;28mself\u001b[39m._values[loc]\n",
      "\u001b[36mFile \u001b[39m\u001b[32m~/miniforge3/envs/ocean-research/lib/python3.12/site-packages/pandas/core/indexes/base.py:3819\u001b[39m, in \u001b[36mIndex.get_loc\u001b[39m\u001b[34m(self, key)\u001b[39m\n\u001b[32m   3814\u001b[39m     \u001b[38;5;28;01mif\u001b[39;00m \u001b[38;5;28misinstance\u001b[39m(casted_key, \u001b[38;5;28mslice\u001b[39m) \u001b[38;5;129;01mor\u001b[39;00m (\n\u001b[32m   3815\u001b[39m         \u001b[38;5;28misinstance\u001b[39m(casted_key, abc.Iterable)\n\u001b[32m   3816\u001b[39m         \u001b[38;5;129;01mand\u001b[39;00m \u001b[38;5;28many\u001b[39m(\u001b[38;5;28misinstance\u001b[39m(x, \u001b[38;5;28mslice\u001b[39m) \u001b[38;5;28;01mfor\u001b[39;00m x \u001b[38;5;129;01min\u001b[39;00m casted_key)\n\u001b[32m   3817\u001b[39m     ):\n\u001b[32m   3818\u001b[39m         \u001b[38;5;28;01mraise\u001b[39;00m InvalidIndexError(key)\n\u001b[32m-> \u001b[39m\u001b[32m3819\u001b[39m     \u001b[38;5;28;01mraise\u001b[39;00m \u001b[38;5;167;01mKeyError\u001b[39;00m(key) \u001b[38;5;28;01mfrom\u001b[39;00m\u001b[38;5;250m \u001b[39m\u001b[34;01merr\u001b[39;00m\n\u001b[32m   3820\u001b[39m \u001b[38;5;28;01mexcept\u001b[39;00m \u001b[38;5;167;01mTypeError\u001b[39;00m:\n\u001b[32m   3821\u001b[39m     \u001b[38;5;66;03m# If we have a listlike key, _check_indexing_error will raise\u001b[39;00m\n\u001b[32m   3822\u001b[39m     \u001b[38;5;66;03m#  InvalidIndexError. Otherwise we fall through and re-raise\u001b[39;00m\n\u001b[32m   3823\u001b[39m     \u001b[38;5;66;03m#  the TypeError.\u001b[39;00m\n\u001b[32m   3824\u001b[39m     \u001b[38;5;28mself\u001b[39m._check_indexing_error(key)\n",
      "\u001b[31mKeyError\u001b[39m: 'cruiseline'"
     ]
    }
   ],
   "source": [
    "ds = xr.Dataset()\n",
    "for f in file_list:\n",
    "    df = pd.read_csv(f, delimiter='\\t', skiprows=1,\n",
    "                     usecols=[1, 2, 3, 7, 8, 9],\n",
    "                     names=['cruiseline', 'station', 'date', 'depth', 'temperature', 'qc'])\n",
    "    df = df[df['qc'] == 1]\n",
    "    df = df.drop(columns='qc')\n",
    "    df['date'] = pd.to_datetime(df['date'])\n",
    "    depth_new = np.array([0, 10, 20, 30, 50, 75, 100, 125, 150, 200, 250, 300, 400, 500])\n"
   ]
  },
  {
   "cell_type": "code",
   "execution_count": null,
   "id": "5a645f2d",
   "metadata": {},
   "outputs": [],
   "source": []
  }
 ],
 "metadata": {
  "kernelspec": {
   "display_name": "ocean-research",
   "language": "python",
   "name": "python3"
  },
  "language_info": {
   "codemirror_mode": {
    "name": "ipython",
    "version": 3
   },
   "file_extension": ".py",
   "mimetype": "text/x-python",
   "name": "python",
   "nbconvert_exporter": "python",
   "pygments_lexer": "ipython3",
   "version": "3.12.11"
  }
 },
 "nbformat": 4,
 "nbformat_minor": 5
}
