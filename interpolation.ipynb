{
 "cells": [
  {
   "cell_type": "markdown",
   "id": "937e190f-7d3e-4c27-9daa-48c9c8e1c7d6",
   "metadata": {},
   "source": [
    "# Interpolate observation data to regular Grid"
   ]
  },
  {
   "cell_type": "code",
   "execution_count": 1,
   "id": "57953d36-a15c-42ce-ae3a-b52c1c3ae1e9",
   "metadata": {},
   "outputs": [],
   "source": [
    "# import libraries\n",
    "from datetime import timedelta\n",
    "\n",
    "import pandas as pd\n",
    "import numpy as np"
   ]
  },
  {
   "cell_type": "code",
   "execution_count": 2,
   "id": "a57da596-a1ba-4aea-8aa7-2ead0cfc0976",
   "metadata": {},
   "outputs": [],
   "source": [
    "# Load data\n",
    "data = pd.read_csv('data/line_208.csv')"
   ]
  },
  {
   "cell_type": "markdown",
   "id": "b4cd0045-24aa-4270-91f9-946177ac9d59",
   "metadata": {},
   "source": [
    "## Interpolate by based on Standard depth levels"
   ]
  },
  {
   "cell_type": "code",
   "execution_count": 3,
   "id": "13e9d2e7-ad53-4fbd-bb5b-3f6b006cff6b",
   "metadata": {},
   "outputs": [],
   "source": [
    "# Filter time range\n",
    "start = pd.Timestamp('1982-01-01').to_julian_date()\n",
    "end = pd.Timestamp('2022-01-01').to_julian_date()\n",
    "df = data.loc[(data['julian'] > start) & (data['julian'] < end)]"
   ]
  },
  {
   "cell_type": "code",
   "execution_count": 4,
   "id": "c0046760-44ad-4b71-b91e-36088924639e",
   "metadata": {},
   "outputs": [],
   "source": [
    "# Setup\n",
    "stations = df['station'].unique()\n",
    "standard_depths = np.array([0, 10, 20, 30, 50, 75, 100, 125, 150, 200, 250, 300, 400, 500])\n",
    "time_index = np.sort(df['julian'].unique())\n",
    "\n",
    "result_dict = {}  # store each station’s interpolated dataframe"
   ]
  },
  {
   "cell_type": "code",
   "execution_count": 5,
   "id": "a55f611b-d153-49b3-8ae0-649d246522b1",
   "metadata": {},
   "outputs": [],
   "source": [
    "# Loop through stations\n",
    "for station in stations:\n",
    "    df_station = df[df['station'] == station].drop(columns=['cruiseline', 'date', 'station'])\n",
    "    depth_interp = pd.DataFrame(index=time_index, columns=standard_depths, dtype=float)\n",
    "\n",
    "    for time in time_index:\n",
    "        # Extract data for this time and station\n",
    "        t_obs = df_station.loc[df_station['julian'] == time, ['depth', 'temperature']].dropna()\n",
    "\n",
    "        # Skip if no data for this time\n",
    "        if t_obs.empty:\n",
    "            continue\n",
    "\n",
    "        # Interpolate onto standard depths\n",
    "        t_interp = np.interp(\n",
    "            standard_depths,\n",
    "            t_obs['depth'],\n",
    "            t_obs['temperature'],\n",
    "            left=np.nan,\n",
    "            right=np.nan\n",
    "        )\n",
    "\n",
    "        # Store result in the DataFrame\n",
    "        depth_interp.loc[time] = t_interp\n",
    "\n",
    "    result_dict[station] = depth_interp"
   ]
  },
  {
   "cell_type": "code",
   "execution_count": null,
   "id": "d4a65096-7a95-4e30-bf33-ec49736f6bf6",
   "metadata": {},
   "outputs": [],
   "source": [
    "depth_interp = pd.concat(result_dict, names=['station', 'time'])\n",
    "\n",
    "# drop empty rows\n",
    "depth_interp = depth_interp.dropna(axis=0, how='all')\n",
    "\n",
    "depth_interp = depth_interp.stack(0).reset_index(1)\n",
    "\n",
    "depth_interp.index.names = ['station', 'depth']\n",
    "\n",
    "depth_interp.columns = ['time', 'temperature']"
   ]
  },
  {
   "cell_type": "markdown",
   "id": "294b649c-1c1e-4a8a-8f32-96b0a1abb463",
   "metadata": {},
   "source": [
    "## Interpolate by based on monthly time space"
   ]
  },
  {
   "cell_type": "code",
   "execution_count": 12,
   "id": "dcb0fa18-a109-4fa4-a66e-72980f4c011d",
   "metadata": {},
   "outputs": [
    {
     "data": {
      "text/plain": [
       "[np.float64(2444984.5),\n",
       " np.float64(2445015.5),\n",
       " np.float64(2445043.5),\n",
       " np.float64(2445074.5),\n",
       " np.float64(2445104.5)]"
      ]
     },
     "execution_count": 12,
     "metadata": {},
     "output_type": "execute_result"
    }
   ],
   "source": [
    "# time range\n",
    "start = pd.Timestamp('1982-01')\n",
    "end = pd.Timestamp('2021-12')\n",
    "time_range = pd.date_range(start, end, freq='1MS') + timedelta(days=14)\n",
    "julian_range = [pd.Timestamp(ts).to_julian_date() for ts in time_range]\n",
    "julian_range[0:5]"
   ]
  },
  {
   "cell_type": "code",
   "execution_count": 37,
   "id": "8e98ee3f-db14-460e-809a-4bda9713e12b",
   "metadata": {},
   "outputs": [],
   "source": [
    "result_dict = {}  # store each station's interpolated dataframe\n",
    "\n",
    "# Loop through stations\n",
    "for station in stations:\n",
    "    selected = depth_interp.loc[station, :]\n",
    "    time_interp = pd.DataFrame(index=julian_range, columns=standard_depths, dtype=float)\n",
    "    \n",
    "    for depth in standard_depths:\n",
    "        if depth not in selected.index:\n",
    "            continue\n",
    "        \n",
    "        t_obs = selected.loc[depth]\n",
    "        t_obs = t_obs.sort_index()\n",
    "        \n",
    "        # NEW: Check for minimum 2 points required for interpolation\n",
    "        if t_obs['time'].size < 2:\n",
    "            continue\n",
    "        \n",
    "        # Convert to numeric arrays and extract values\n",
    "        time_vals = t_obs['time']\n",
    "        temp_vals = t_obs['temperature']\n",
    "        \n",
    "        t_interp = np.interp(\n",
    "            julian_range,\n",
    "            time_vals,\n",
    "            temp_vals,\n",
    "            left=np.nan,\n",
    "            right=np.nan,\n",
    "        )\n",
    "        time_interp[depth] = t_interp\n",
    "    \n",
    "    result_dict[station] = time_interp"
   ]
  },
  {
   "cell_type": "code",
   "execution_count": null,
   "id": "40a94e7c-8a12-4e6c-b9e7-56dc4eb9b583",
   "metadata": {},
   "outputs": [],
   "source": [
    "result_df = pd.concat(result_dict, names=['station', 'time'])\n",
    "\n",
    "result_df = result_df.stack(0).reset_index(1)\n",
    "\n",
    "result_df.index.names = ['station', 'depth']\n",
    "\n",
    "result_df.columns = ['julian', 'temperature']"
   ]
  },
  {
   "cell_type": "code",
   "execution_count": null,
   "id": "b6fa624e-35eb-4b21-a4f2-bfe39032fff9",
   "metadata": {},
   "outputs": [],
   "source": [
    "# Save interpolated data\n",
    "result_df.to_csv('data/line_208_interp.csv')"
   ]
  }
 ],
 "metadata": {
  "kernelspec": {
   "display_name": "Python 3 (ipykernel)",
   "language": "python",
   "name": "python3"
  },
  "language_info": {
   "codemirror_mode": {
    "name": "ipython",
    "version": 3
   },
   "file_extension": ".py",
   "mimetype": "text/x-python",
   "name": "python",
   "nbconvert_exporter": "python",
   "pygments_lexer": "ipython3",
   "version": "3.12.11"
  }
 },
 "nbformat": 4,
 "nbformat_minor": 5
}
