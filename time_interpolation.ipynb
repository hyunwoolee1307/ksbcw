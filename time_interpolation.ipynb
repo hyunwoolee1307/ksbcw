{
 "cells": [
  {
   "cell_type": "code",
   "execution_count": 13,
   "id": "5cab232e",
   "metadata": {},
   "outputs": [],
   "source": [
    "import pandas as pd\n",
    "import xarray as xr\n",
    "import matplotlib.pyplot as plt"
   ]
  },
  {
   "cell_type": "code",
   "execution_count": 14,
   "id": "70d0986f",
   "metadata": {},
   "outputs": [],
   "source": [
    "ds = xr.open_dataset('data/line_208_interp.nc')"
   ]
  },
  {
   "cell_type": "code",
   "execution_count": 15,
   "id": "5284e2dc",
   "metadata": {},
   "outputs": [],
   "source": [
    "ds = ds.where(ds.temperature > 0)"
   ]
  },
  {
   "cell_type": "code",
   "execution_count": 16,
   "id": "4b6191fa",
   "metadata": {},
   "outputs": [],
   "source": [
    "ds = ds.sortby('time')"
   ]
  },
  {
   "cell_type": "code",
   "execution_count": null,
   "id": "b3313c20",
   "metadata": {},
   "outputs": [],
   "source": [
    "#TODO: temperature interpolation Date range from 1981-01-15 to 2021-12-15 \n"
   ]
  }
 ],
 "metadata": {
  "kernelspec": {
   "display_name": "ocean-research",
   "language": "python",
   "name": "python3"
  },
  "language_info": {
   "codemirror_mode": {
    "name": "ipython",
    "version": 3
   },
   "file_extension": ".py",
   "mimetype": "text/x-python",
   "name": "python",
   "nbconvert_exporter": "python",
   "pygments_lexer": "ipython3",
   "version": "3.12.11"
  }
 },
 "nbformat": 4,
 "nbformat_minor": 5
}
