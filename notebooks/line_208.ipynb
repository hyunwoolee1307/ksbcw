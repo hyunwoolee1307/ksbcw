{
 "cells": [
  {
   "cell_type": "markdown",
   "id": "57a50c4c-3629-459a-9cf2-e15c7fa7503f",
   "metadata": {},
   "source": [
    "# KSBCW\n",
    "\n",
    "1. Load data\n",
    "2. Calculate distances between stations\n",
    "3. Set first station\n",
    "4. Quality Control\n",
    "5. Interpolation - Depth\n",
    "6. Interpolation - Time"
   ]
  },
  {
   "cell_type": "markdown",
   "id": "5db5ee3b-c02b-4bd3-b037-aa3687ef5e22",
   "metadata": {},
   "source": [
    "## Load data"
   ]
  },
  {
   "cell_type": "code",
   "execution_count": 2,
   "id": "8140b97b-13c0-4796-81a5-9781e058de70",
   "metadata": {},
   "outputs": [],
   "source": [
    "import h5py\n",
    "\n",
    "line_208 = h5py.File('../data/mat/line208.mat', 'r')"
   ]
  },
  {
   "cell_type": "code",
   "execution_count": 5,
   "id": "e77ad3c2-61b8-4c8b-8849-49cac56a297f",
   "metadata": {},
   "outputs": [
    {
     "data": {
      "text/plain": [
       "['v208_interp']"
      ]
     },
     "execution_count": 5,
     "metadata": {},
     "output_type": "execute_result"
    }
   ],
   "source": [
    "list(line_208.keys())"
   ]
  },
  {
   "cell_type": "code",
   "execution_count": 8,
   "id": "092b0de4-bd3f-4553-9aae-800f46c2c099",
   "metadata": {},
   "outputs": [],
   "source": [
    "dset = line_208['v208_interp']"
   ]
  },
  {
   "cell_type": "code",
   "execution_count": 9,
   "id": "762c51c7-1380-4cf0-b908-7f337dae4bfc",
   "metadata": {},
   "outputs": [
    {
     "data": {
      "text/plain": [
       "(240, 70)"
      ]
     },
     "execution_count": 9,
     "metadata": {},
     "output_type": "execute_result"
    }
   ],
   "source": [
    "dset.shape"
   ]
  },
  {
   "cell_type": "code",
   "execution_count": 17,
   "id": "184a5af5-0c96-49fc-981e-861c5414a1e3",
   "metadata": {},
   "outputs": [
    {
     "data": {
      "text/plain": [
       "dtype('<f8')"
      ]
     },
     "execution_count": 17,
     "metadata": {},
     "output_type": "execute_result"
    }
   ],
   "source": [
    "dset.dtype"
   ]
  },
  {
   "cell_type": "code",
   "execution_count": 27,
   "id": "7d4cc6d5-68be-4b39-baf1-31ad5824684d",
   "metadata": {},
   "outputs": [
    {
     "data": {
      "text/plain": [
       "array([12.2314, 12.229 , 12.2083, 12.1865, 12.13  , 12.771 , 12.7558,\n",
       "       12.7144, 12.5843, 10.8251,  9.5196,  5.7506,     nan, 13.8815,\n",
       "       13.8906, 13.8852, 13.8917, 13.7272, 12.7495, 12.5771,  9.1815,\n",
       "           nan, 12.69  , 12.6912, 12.6984, 12.6989, 12.697 , 12.5741,\n",
       "       12.2492, 11.9719,     nan,     nan,     nan,     nan,     nan,\n",
       "           nan,     nan,     nan,     nan,     nan,     nan,     nan,\n",
       "           nan,     nan,     nan,     nan,     nan,     nan,     nan,\n",
       "           nan,     nan,     nan,     nan,     nan,     nan,     nan,\n",
       "           nan,     nan,     nan,     nan,     nan,     nan,     nan,\n",
       "           nan,     nan,     nan,     nan,     nan,     nan,     nan])"
      ]
     },
     "execution_count": 27,
     "metadata": {},
     "output_type": "execute_result"
    }
   ],
   "source": [
    "dset[210, :]"
   ]
  },
  {
   "cell_type": "code",
   "execution_count": null,
   "id": "fd82c0b4-aed6-4334-8386-5e2b8d999988",
   "metadata": {},
   "outputs": [],
   "source": []
  }
 ],
 "metadata": {
  "kernelspec": {
   "display_name": "Python 3 (ipykernel)",
   "language": "python",
   "name": "python3"
  },
  "language_info": {
   "codemirror_mode": {
    "name": "ipython",
    "version": 3
   },
   "file_extension": ".py",
   "mimetype": "text/x-python",
   "name": "python",
   "nbconvert_exporter": "python",
   "pygments_lexer": "ipython3",
   "version": "3.12.11"
  }
 },
 "nbformat": 4,
 "nbformat_minor": 5
}
