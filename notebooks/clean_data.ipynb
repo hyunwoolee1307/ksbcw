{
 "cells": [
  {
   "cell_type": "markdown",
   "id": "6fe377fa-f574-4dce-81cb-358de6ef09fb",
   "metadata": {},
   "source": [
    "# Cleaning data"
   ]
  },
  {
   "cell_type": "code",
   "execution_count": 1,
   "id": "e7fc0df4-be1f-480b-a53e-ed9b8acc6061",
   "metadata": {},
   "outputs": [],
   "source": [
    "import pandas as pd"
   ]
  },
  {
   "cell_type": "code",
   "execution_count": 2,
   "id": "87a4bb5c-6631-45cb-81da-6d14cc1e3c99",
   "metadata": {},
   "outputs": [],
   "source": [
    "def read_soo(file_obj: str) -> pd.DataFrame:\n",
    "    \"\"\"\n",
    "    Read soo list txt file data.\n",
    "\n",
    "    Parameter\n",
    "    ----------\n",
    "    file_obj : str\n",
    "        file object string\n",
    "\n",
    "    Return\n",
    "    ------\n",
    "    pd.DataFrame\n",
    "        Loaded data\n",
    "    \"\"\"\n",
    "    df = pd.read_table(\n",
    "        file_obj,\n",
    "        sep=\"\\t\",\n",
    "        header=0,\n",
    "        names=[\n",
    "            \"line\",\n",
    "            \"station\",\n",
    "            \"time\",\n",
    "            \"latitude\",\n",
    "            \"longitude\",\n",
    "            \"depth\",\n",
    "            \"temperature\",\n",
    "            \"temperature_qc\",\n",
    "            \"salinity\",\n",
    "            \"salinity_qc\",\n",
    "        ],\n",
    "        index_col=[\"line\", \"station\"],\n",
    "        usecols=[1, 2, 3, 4, 5, 7, 8, 9, 10, 11],\n",
    "    )\n",
    "    decimals = pd.Series([3, 3], index=[\"latitude\", \"longitude\"])\n",
    "    df = df.round(decimals)\n",
    "    return df"
   ]
  },
  {
   "cell_type": "code",
   "execution_count": 3,
   "id": "063bca3a-da9a-4a98-8409-e87fc154334c",
   "metadata": {},
   "outputs": [],
   "source": [
    "def target(df: pd.DataFrame, line: int, station: list) -> pd.DataFrame:\n",
    "    \"\"\"\n",
    "    Select target station data.\n",
    "\n",
    "    Parameters\n",
    "    ----------\n",
    "    df : pd.DataFrame\n",
    "        pandas.DataFrame type input data.\n",
    "    line : int\n",
    "        line number integer.\n",
    "    station : list\n",
    "        list container for station numbers.\n",
    "\n",
    "    Return\n",
    "    ------\n",
    "    pd.DataFrame\n",
    "        targeted station data\n",
    "    \"\"\"\n",
    "    target = df.xs(line, level=\"line\")\n",
    "    target = target[target.index.isin(station)]\n",
    "    return target.reset_index(drop=True)"
   ]
  },
  {
   "cell_type": "code",
   "execution_count": 4,
   "id": "c7394365-19b3-4432-a038-6007569719f7",
   "metadata": {},
   "outputs": [],
   "source": [
    "def validate(df: pd.DataFrame) -> pd.DataFrame:\n",
    "    \"\"\"\n",
    "    Validate quality control for preparing data.\n",
    "\n",
    "    Parameter\n",
    "    ---------\n",
    "    df : pd.DataFrame\n",
    "        targeted station data\n",
    "\n",
    "    Return\n",
    "    ------\n",
    "    pd.DataFrame\n",
    "        validated pandas.DataFrame data\n",
    "    \"\"\"\n",
    "    mask = (\n",
    "        df[\"temperature\"].notna()\n",
    "        & (df[\"temperature\"] >= 2.0)\n",
    "        & (df[\"temperature_qc\"] == 1)\n",
    "        & (df[\"salinity_qc\"] == 1)\n",
    "    )\n",
    "    return df[mask].iloc[:, 0:5]"
   ]
  },
  {
   "cell_type": "code",
   "execution_count": 5,
   "id": "b7e5a8d5-5e84-4fb1-b11f-6e6b234813be",
   "metadata": {},
   "outputs": [],
   "source": [
    "if __name__ == \"__main__\":\n",
    "    file_list = [f\"../data/raw/{year}.txt\" for year in range(1969, 2025)]\n",
    "\n",
    "    df = None\n",
    "    for file_obj in file_list:\n",
    "        if df is None:\n",
    "            df = read_soo(file_obj)\n",
    "        else:\n",
    "            df = pd.concat([df, read_soo(file_obj)])\n",
    "\n",
    "    df_valid = validate(df)\n",
    "\n",
    "    line_208 = target(df_valid, 208, [1, 2, 3, 4])\n",
    "    line_208.to_csv(\"../data/cleaned_line_208.csv\", index=None, encoding=\"utf-8\")"
   ]
  }
 ],
 "metadata": {
  "kernelspec": {
   "display_name": "Python 3 (ipykernel)",
   "language": "python",
   "name": "python3"
  },
  "language_info": {
   "codemirror_mode": {
    "name": "ipython",
    "version": 3
   },
   "file_extension": ".py",
   "mimetype": "text/x-python",
   "name": "python",
   "nbconvert_exporter": "python",
   "pygments_lexer": "ipython3",
   "version": "3.12.3"
  }
 },
 "nbformat": 4,
 "nbformat_minor": 5
}
