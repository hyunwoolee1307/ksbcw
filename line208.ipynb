{
 "cells": [
  {
   "cell_type": "code",
   "execution_count": 1,
   "id": "8a06e6cc-9875-42d7-a33a-ddea3512fb57",
   "metadata": {},
   "outputs": [],
   "source": [
    "import numpy as np\n",
    "import pandas as pd"
   ]
  },
  {
   "cell_type": "code",
   "execution_count": 2,
   "id": "eb160d13-1185-4a93-bada-b318bdf5252a",
   "metadata": {
    "scrolled": true
   },
   "outputs": [],
   "source": [
    "file_list = ['data/soo_list_%d.txt' % d for d in np.arange(1969, 2025)] "
   ]
  },
  {
   "cell_type": "code",
   "execution_count": 3,
   "id": "ed287560-6c31-4dc3-acd3-48c10fe3453d",
   "metadata": {},
   "outputs": [],
   "source": [
    "meta = pd.read_csv('./data/meta.txt', delimiter='\\t', header=0)"
   ]
  },
  {
   "cell_type": "code",
   "execution_count": 4,
   "id": "56996714",
   "metadata": {},
   "outputs": [],
   "source": [
    "east_sea_meta= meta[(meta['Area'] == 'East Sea') & (meta['End date(YYYY-MM-DD)'].isna())].drop(columns=['Zooplankton sampling depth(m)'])"
   ]
  },
  {
   "cell_type": "code",
   "execution_count": 5,
   "id": "93d755ef",
   "metadata": {},
   "outputs": [
    {
     "name": "stdout",
     "output_type": "stream",
     "text": [
      "<class 'pandas.core.frame.DataFrame'>\n",
      "Index: 74 entries, 0 to 148\n",
      "Data columns (total 7 columns):\n",
      " #   Column                  Non-Null Count  Dtype  \n",
      "---  ------                  --------------  -----  \n",
      " 0   Area                    74 non-null     object \n",
      " 1   Line-Station            74 non-null     object \n",
      " 2   Begin date(YYYY-MM-DD)  70 non-null     object \n",
      " 3   End date(YYYY-MM-DD)    0 non-null      object \n",
      " 4   Latitude(˚N)            74 non-null     float64\n",
      " 5   Longitude(˚E)           74 non-null     float64\n",
      " 6   Bottom depth(m)         70 non-null     object \n",
      "dtypes: float64(2), object(5)\n",
      "memory usage: 4.6+ KB\n"
     ]
    }
   ],
   "source": [
    "east_sea_meta.info()"
   ]
  },
  {
   "cell_type": "code",
   "execution_count": 6,
   "id": "c4df042f",
   "metadata": {},
   "outputs": [],
   "source": [
    "df_208 = pd.DataFrame()\n",
    "for f in file_list:\n",
    "    df = pd.read_csv(f, delimiter='\\t', skiprows=1,\n",
    "                     usecols=[1, 2, 3, 7, 8, 9],\n",
    "                     names=['cruiseline', 'station', 'date', 'depth', 'temperature', 'qc'])\n",
    "    df = df[(df['qc'] == 1) & (df['cruiseline'] == 208) & (df['station'].isin([1, 2, 3, 4]))]\n",
    "    df = df.drop(columns='qc')\n",
    "    df['date'] = pd.to_datetime(df['date'])\n",
    "    df['julian'] = [pd.Timestamp(ts).to_julian_date() for ts in df['date']]\n",
    "    df_208 = pd.concat([df_208, df])\n",
    "df_208.to_csv('data/line_208.csv', index=False)"
   ]
  }
 ],
 "metadata": {
  "kernelspec": {
   "display_name": "Python 3 (ipykernel)",
   "language": "python",
   "name": "python3"
  },
  "language_info": {
   "codemirror_mode": {
    "name": "ipython",
    "version": 3
   },
   "file_extension": ".py",
   "mimetype": "text/x-python",
   "name": "python",
   "nbconvert_exporter": "python",
   "pygments_lexer": "ipython3",
   "version": "3.12.11"
  }
 },
 "nbformat": 4,
 "nbformat_minor": 5
}
