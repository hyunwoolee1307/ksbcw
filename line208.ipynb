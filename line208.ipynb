{
 "cells": [
  {
   "cell_type": "code",
   "execution_count": 73,
   "id": "8a06e6cc-9875-42d7-a33a-ddea3512fb57",
   "metadata": {},
   "outputs": [],
   "source": [
    "import numpy as np\n",
    "import pandas as pd\n",
    "import xarray as xr\n",
    "\n",
    "from interpolation import depth_interp_spline"
   ]
  },
  {
   "cell_type": "code",
   "execution_count": 74,
   "id": "eb160d13-1185-4a93-bada-b318bdf5252a",
   "metadata": {
    "scrolled": true
   },
   "outputs": [
    {
     "data": {
      "text/plain": [
       "['data/soo_list_1969.txt',\n",
       " 'data/soo_list_1970.txt',\n",
       " 'data/soo_list_1971.txt',\n",
       " 'data/soo_list_1972.txt',\n",
       " 'data/soo_list_1973.txt',\n",
       " 'data/soo_list_1974.txt',\n",
       " 'data/soo_list_1975.txt',\n",
       " 'data/soo_list_1976.txt',\n",
       " 'data/soo_list_1977.txt',\n",
       " 'data/soo_list_1978.txt',\n",
       " 'data/soo_list_1979.txt',\n",
       " 'data/soo_list_1980.txt',\n",
       " 'data/soo_list_1981.txt',\n",
       " 'data/soo_list_1982.txt',\n",
       " 'data/soo_list_1983.txt',\n",
       " 'data/soo_list_1984.txt',\n",
       " 'data/soo_list_1985.txt',\n",
       " 'data/soo_list_1986.txt',\n",
       " 'data/soo_list_1987.txt',\n",
       " 'data/soo_list_1988.txt',\n",
       " 'data/soo_list_1989.txt',\n",
       " 'data/soo_list_1990.txt',\n",
       " 'data/soo_list_1991.txt',\n",
       " 'data/soo_list_1992.txt',\n",
       " 'data/soo_list_1993.txt',\n",
       " 'data/soo_list_1994.txt',\n",
       " 'data/soo_list_1995.txt',\n",
       " 'data/soo_list_1996.txt',\n",
       " 'data/soo_list_1997.txt',\n",
       " 'data/soo_list_1998.txt',\n",
       " 'data/soo_list_1999.txt',\n",
       " 'data/soo_list_2000.txt',\n",
       " 'data/soo_list_2001.txt',\n",
       " 'data/soo_list_2002.txt',\n",
       " 'data/soo_list_2003.txt',\n",
       " 'data/soo_list_2004.txt',\n",
       " 'data/soo_list_2005.txt',\n",
       " 'data/soo_list_2006.txt',\n",
       " 'data/soo_list_2007.txt',\n",
       " 'data/soo_list_2008.txt',\n",
       " 'data/soo_list_2009.txt',\n",
       " 'data/soo_list_2010.txt',\n",
       " 'data/soo_list_2011.txt',\n",
       " 'data/soo_list_2012.txt',\n",
       " 'data/soo_list_2013.txt',\n",
       " 'data/soo_list_2014.txt',\n",
       " 'data/soo_list_2015.txt',\n",
       " 'data/soo_list_2016.txt',\n",
       " 'data/soo_list_2017.txt',\n",
       " 'data/soo_list_2018.txt',\n",
       " 'data/soo_list_2019.txt',\n",
       " 'data/soo_list_2020.txt',\n",
       " 'data/soo_list_2021.txt',\n",
       " 'data/soo_list_2022.txt',\n",
       " 'data/soo_list_2023.txt',\n",
       " 'data/soo_list_2024.txt']"
      ]
     },
     "execution_count": 74,
     "metadata": {},
     "output_type": "execute_result"
    }
   ],
   "source": [
    "file_list = ['data/soo_list_%d.txt' % d for d in np.arange(1969, 2025)] \n",
    "file_list"
   ]
  },
  {
   "cell_type": "code",
   "execution_count": 75,
   "id": "ed287560-6c31-4dc3-acd3-48c10fe3453d",
   "metadata": {},
   "outputs": [],
   "source": [
    "meta = pd.read_csv('./data/meta.txt', delimiter='\\t', header=0)"
   ]
  },
  {
   "cell_type": "code",
   "execution_count": 76,
   "id": "56996714",
   "metadata": {},
   "outputs": [],
   "source": [
    "east_sea_meta= meta[(meta['Area'] == 'East Sea') & (meta['End date(YYYY-MM-DD)'].isna())].drop(columns=['Zooplankton sampling depth(m)'])"
   ]
  },
  {
   "cell_type": "code",
   "execution_count": 77,
   "id": "93d755ef",
   "metadata": {},
   "outputs": [
    {
     "name": "stdout",
     "output_type": "stream",
     "text": [
      "<class 'pandas.core.frame.DataFrame'>\n",
      "Index: 74 entries, 0 to 148\n",
      "Data columns (total 7 columns):\n",
      " #   Column                  Non-Null Count  Dtype  \n",
      "---  ------                  --------------  -----  \n",
      " 0   Area                    74 non-null     object \n",
      " 1   Line-Station            74 non-null     object \n",
      " 2   Begin date(YYYY-MM-DD)  70 non-null     object \n",
      " 3   End date(YYYY-MM-DD)    0 non-null      object \n",
      " 4   Latitude(˚N)            74 non-null     float64\n",
      " 5   Longitude(˚E)           74 non-null     float64\n",
      " 6   Bottom depth(m)         70 non-null     object \n",
      "dtypes: float64(2), object(5)\n",
      "memory usage: 4.6+ KB\n"
     ]
    }
   ],
   "source": [
    "east_sea_meta.info()"
   ]
  },
  {
   "cell_type": "code",
   "execution_count": 78,
   "id": "c4df042f",
   "metadata": {},
   "outputs": [],
   "source": [
    "df_208 = pd.DataFrame()\n",
    "for f in file_list:\n",
    "    df = pd.read_csv(f, delimiter='\\t', skiprows=1,\n",
    "                     usecols=[1, 2, 3, 7, 8, 9],\n",
    "                     names=['cruiseline', 'station', 'date', 'depth', 'temperature', 'qc'])\n",
    "    df = df[(df['qc'] == 1) & (df['cruiseline'] == 208) & (df['station'].isin([1, 2, 3, 4]))]\n",
    "    df = df.drop(columns='qc')\n",
    "    df['date'] = pd.to_datetime(df['date'])\n",
    "    df_208 = pd.concat([df_208, df.reset_index(drop=True)])\n",
    "df_208.to_csv('data/line_208.csv', index=False)"
   ]
  },
  {
   "cell_type": "code",
   "execution_count": null,
   "id": "1d2ece93",
   "metadata": {},
   "outputs": [],
   "source": []
  }
 ],
 "metadata": {
  "kernelspec": {
   "display_name": "ocean-research",
   "language": "python",
   "name": "python3"
  },
  "language_info": {
   "codemirror_mode": {
    "name": "ipython",
    "version": 3
   },
   "file_extension": ".py",
   "mimetype": "text/x-python",
   "name": "python",
   "nbconvert_exporter": "python",
   "pygments_lexer": "ipython3",
   "version": "3.12.11"
  }
 },
 "nbformat": 4,
 "nbformat_minor": 5
}
