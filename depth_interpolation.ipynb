{
 "cells": [
  {
   "cell_type": "code",
   "execution_count": 1,
   "id": "20c377e8",
   "metadata": {},
   "outputs": [],
   "source": [
    "import pandas as pd\n",
    "import numpy as np\n",
    "import xarray as xr\n",
    "import scipy as sp"
   ]
  },
  {
   "cell_type": "code",
   "execution_count": 2,
   "id": "1b83f045",
   "metadata": {},
   "outputs": [],
   "source": [
    "data = pd.read_csv('data/line_208.csv')"
   ]
  },
  {
   "cell_type": "code",
   "execution_count": 3,
   "id": "1f726ad5",
   "metadata": {},
   "outputs": [
    {
     "data": {
      "text/html": [
       "<div>\n",
       "<style scoped>\n",
       "    .dataframe tbody tr th:only-of-type {\n",
       "        vertical-align: middle;\n",
       "    }\n",
       "\n",
       "    .dataframe tbody tr th {\n",
       "        vertical-align: top;\n",
       "    }\n",
       "\n",
       "    .dataframe thead th {\n",
       "        text-align: right;\n",
       "    }\n",
       "</style>\n",
       "<table border=\"1\" class=\"dataframe\">\n",
       "  <thead>\n",
       "    <tr style=\"text-align: right;\">\n",
       "      <th></th>\n",
       "      <th>cruiseline</th>\n",
       "      <th>station</th>\n",
       "      <th>date</th>\n",
       "      <th>depth</th>\n",
       "      <th>temperature</th>\n",
       "    </tr>\n",
       "  </thead>\n",
       "  <tbody>\n",
       "    <tr>\n",
       "      <th>0</th>\n",
       "      <td>208</td>\n",
       "      <td>1</td>\n",
       "      <td>1969-02-10 04:12:00</td>\n",
       "      <td>0</td>\n",
       "      <td>13.3</td>\n",
       "    </tr>\n",
       "    <tr>\n",
       "      <th>1</th>\n",
       "      <td>208</td>\n",
       "      <td>1</td>\n",
       "      <td>1969-02-10 04:12:00</td>\n",
       "      <td>10</td>\n",
       "      <td>13.3</td>\n",
       "    </tr>\n",
       "    <tr>\n",
       "      <th>2</th>\n",
       "      <td>208</td>\n",
       "      <td>1</td>\n",
       "      <td>1969-02-10 04:12:00</td>\n",
       "      <td>20</td>\n",
       "      <td>13.2</td>\n",
       "    </tr>\n",
       "    <tr>\n",
       "      <th>3</th>\n",
       "      <td>208</td>\n",
       "      <td>1</td>\n",
       "      <td>1969-02-10 04:12:00</td>\n",
       "      <td>30</td>\n",
       "      <td>13.2</td>\n",
       "    </tr>\n",
       "    <tr>\n",
       "      <th>4</th>\n",
       "      <td>208</td>\n",
       "      <td>1</td>\n",
       "      <td>1969-02-10 04:12:00</td>\n",
       "      <td>60</td>\n",
       "      <td>13.0</td>\n",
       "    </tr>\n",
       "  </tbody>\n",
       "</table>\n",
       "</div>"
      ],
      "text/plain": [
       "   cruiseline  station                 date  depth  temperature\n",
       "0         208        1  1969-02-10 04:12:00      0         13.3\n",
       "1         208        1  1969-02-10 04:12:00     10         13.3\n",
       "2         208        1  1969-02-10 04:12:00     20         13.2\n",
       "3         208        1  1969-02-10 04:12:00     30         13.2\n",
       "4         208        1  1969-02-10 04:12:00     60         13.0"
      ]
     },
     "execution_count": 3,
     "metadata": {},
     "output_type": "execute_result"
    }
   ],
   "source": [
    "data.head()"
   ]
  },
  {
   "cell_type": "code",
   "execution_count": 4,
   "id": "f3d4b553",
   "metadata": {},
   "outputs": [],
   "source": [
    "data['date'] = pd.to_datetime(data['date'])"
   ]
  },
  {
   "cell_type": "code",
   "execution_count": 5,
   "id": "15abcd5b",
   "metadata": {},
   "outputs": [],
   "source": [
    "stations = [1, 2, 3, 4]\n",
    "df_interp = pd.DataFrame()\n",
    "standard_depths = np.array([0, 10, 20, 30, 50, 75, 100, 125, 150, 200, 250, 300, 400, 500])\n",
    "for station in stations:\n",
    "    timeindex = data['date'].unique()\n",
    "    for time in timeindex:\n",
    "        df_station = data[(data['station'] == station) & (data['date'] == time)]\n",
    "        if df_station.shape[0] < 2:\n",
    "            continue\n",
    "        else:\n",
    "            di = sp.interpolate.interp1d(df_station['depth'], df_station['temperature'], kind='linear', fill_value=0, bounds_error=False)\n",
    "            d_interp = pd.DataFrame({\n",
    "                'temperature': di(standard_depths),\n",
    "                'depth': standard_depths,\n",
    "                'station': station,\n",
    "                'date': time\n",
    "            })\n",
    "            df_interp = pd.concat([df_interp, d_interp], ignore_index=True)\n"
   ]
  },
  {
   "cell_type": "code",
   "execution_count": 6,
   "id": "4b6f9580",
   "metadata": {},
   "outputs": [],
   "source": [
    "# First pivot the data into the correct shape\n",
    "pivot_data = df_interp.pivot(index='date', columns=['station', 'depth'], values='temperature')\n",
    "\n",
    "# Create DataArray with proper dimensions\n",
    "da = xr.DataArray(\n",
    "    pivot_data.values.reshape(len(df_interp['date'].unique()), len(stations), len(standard_depths)),\n",
    "    coords={\n",
    "        'time': df_interp['date'].unique(),\n",
    "        'station': stations,\n",
    "        'depth': standard_depths\n",
    "    },\n",
    "    dims=['time', 'station', 'depth']\n",
    ")"
   ]
  },
  {
   "cell_type": "code",
   "execution_count": 7,
   "id": "91436015",
   "metadata": {},
   "outputs": [],
   "source": [
    "da.name = 'temperature'\n",
    "da.attrs['units'] = 'degrees Celsius'"
   ]
  },
  {
   "cell_type": "code",
   "execution_count": 8,
   "id": "2fcfacfc",
   "metadata": {},
   "outputs": [],
   "source": [
    "da.to_netcdf('data/line_208_interp.nc')"
   ]
  },
  {
   "cell_type": "code",
   "execution_count": null,
   "id": "24a099f3",
   "metadata": {},
   "outputs": [],
   "source": []
  }
 ],
 "metadata": {
  "kernelspec": {
   "display_name": "ocean-research",
   "language": "python",
   "name": "python3"
  },
  "language_info": {
   "codemirror_mode": {
    "name": "ipython",
    "version": 3
   },
   "file_extension": ".py",
   "mimetype": "text/x-python",
   "name": "python",
   "nbconvert_exporter": "python",
   "pygments_lexer": "ipython3",
   "version": "3.12.11"
  }
 },
 "nbformat": 4,
 "nbformat_minor": 5
}
